{
 "cells": [
  {
   "cell_type": "code",
   "execution_count": 1,
   "id": "a15c2376",
   "metadata": {},
   "outputs": [],
   "source": [
    "import mysql.connector\n",
    "\n",
    "dataBase = mysql.connector.connect(\n",
    "    host = \"localhost\",\n",
    "    user = \"root\",\n",
    "    passwd = \"\"\n",
    ")\n",
    "\n",
    "cursorObject = dataBase.cursor()\n",
    "cursorObject.execute(\"CREATE DATABASE D3_TI_2023\")"
   ]
  },
  {
   "cell_type": "code",
   "execution_count": 3,
   "id": "48a204de",
   "metadata": {},
   "outputs": [],
   "source": [
    "import mysql.connector\n",
    "\n",
    "dataBase = mysql.connector.connect(\n",
    "    host = \"localhost\",\n",
    "    user = \"root\",\n",
    "    passwd = \"\",\n",
    "    database = \"D3_TI_2023\"\n",
    ")\n",
    "\n",
    "cursorObject = dataBase.cursor()\n",
    "studentRecord = \"\"\"CREATE TABLE mahasiswa (\n",
    "                    NIM VARCHAR(10) PRIMARY KEY NOT NULL,\n",
    "                    NAMA VARCHAR(30) NOT NULL,\n",
    "                    ALAMAT VARCHAR(255) NOT NULL,\n",
    "                    MATA_KULIAH VARCHAR(50) NOT NULL\n",
    "                    )\"\"\"\n",
    "cursorObject.execute(studentRecord)"
   ]
  },
  {
   "cell_type": "code",
   "execution_count": 4,
   "id": "95f616ce",
   "metadata": {},
   "outputs": [],
   "source": [
    "import mysql.connector\n",
    "\n",
    "dataBase = mysql.connector.connect(\n",
    "    host = \"localhost\",\n",
    "    user = \"root\",\n",
    "    passwd = \"\",\n",
    "    database = \"D3_TI_2023\"\n",
    ")\n",
    "\n",
    "cursorObject = dataBase.cursor()\n",
    "studentRecord = \"\"\"CREATE TABLE dosen (\n",
    "                    NIP VARCHAR(20) PRIMARY KEY NOT NULL,\n",
    "                    NAMA_DOSEN VARCHAR(50) NOT NULL,\n",
    "                    MATA_KULIAH VARCHAR(50) NOT NULL\n",
    "                    )\"\"\"\n",
    "cursorObject.execute(studentRecord)"
   ]
  },
  {
   "cell_type": "code",
   "execution_count": 5,
   "id": "0dccdcdb",
   "metadata": {},
   "outputs": [],
   "source": [
    "import mysql.connector\n",
    "\n",
    "dataBase = mysql.connector.connect(\n",
    "    host = \"localhost\",\n",
    "    user = \"root\",\n",
    "    passwd = \"\",\n",
    "    database = \"D3_TI_2023\"\n",
    ")\n",
    "\n",
    "cursorObject = dataBase.cursor()\n",
    "studentRecord = \"\"\"CREATE TABLE mata_kuliah (\n",
    "                    KODE_MATKUL VARCHAR(10) PRIMARY KEY NOT NULL,\n",
    "                    NAMA VARCHAR(50) NOT NULL,\n",
    "                    WAKTU DATE NOT NULL,\n",
    "                    RUANGAN VARCHAR(10) NOT NULL\n",
    "                    )\"\"\"\n",
    "cursorObject.execute(studentRecord)"
   ]
  },
  {
   "cell_type": "code",
   "execution_count": 7,
   "id": "3cc573d6",
   "metadata": {},
   "outputs": [],
   "source": [
    "import mysql.connector\n",
    "\n",
    "dataBase = mysql.connector.connect(\n",
    "    host = \"localhost\",\n",
    "    user = \"root\",\n",
    "    passwd = \"\",\n",
    "    database = \"D3_TI_2023\"\n",
    ")\n",
    "\n",
    "cursorObject = dataBase.cursor()\n",
    "sql = \"INSERT INTO mahasiswa(NIM, NAMA, ALAMAT, MATA_KULIAH)\\\n",
    "VALUES(%s, %s, %s, %s)\"\n",
    "val = [(\"V3922051\", \"Budi\", \"Surabaya\", \"Wireless\"), \n",
    "       (\"V3922050\", \"Siti\", \"Bandung\", \"Statistika\"),\n",
    "       (\"V3922049\", \"Aisyah\", \"Jember\", \"Mikrokontroler\"),\n",
    "       (\"V3922048\", \"Ario\", \"Surabaya\", \"Web\"),\n",
    "       (\"V3922047\", \"wudi\", \"Madiun\", \"Wireless\")\n",
    "      ]\n",
    "\n",
    "cursorObject.executemany(sql, val)\n",
    "dataBase.commit()"
   ]
  },
  {
   "cell_type": "code",
   "execution_count": 8,
   "id": "fc438222",
   "metadata": {},
   "outputs": [
    {
     "name": "stdout",
     "output_type": "stream",
     "text": [
      "('V3922047', 'wudi', 'Madiun', 'Wireless')\n",
      "('V3922048', 'Ario', 'Surabaya', 'Web')\n",
      "('V3922049', 'Aisyah', 'Jember', 'Mikrokontroler')\n",
      "('V3922050', 'Siti', 'Bandung', 'Statistika')\n",
      "('V3922051', 'Budi', 'Surabaya', 'Wireless')\n"
     ]
    }
   ],
   "source": [
    "import mysql.connector\n",
    "\n",
    "dataBase = mysql.connector.connect(\n",
    "    host = \"localhost\",\n",
    "    user = \"root\",\n",
    "    passwd = \"\",\n",
    "    database = \"D3_TI_2023\"\n",
    ")\n",
    "\n",
    "cursorObject = dataBase.cursor()\n",
    "query = \"SELECT * FROM mahasiswa\"\n",
    "cursorObject.execute(query)\n",
    "\n",
    "myresult = cursorObject.fetchall()\n",
    "\n",
    "for x in myresult:\n",
    "    print(x)\n",
    "    \n",
    "dataBase.close()\n"
   ]
  },
  {
   "cell_type": "code",
   "execution_count": 12,
   "id": "def094f6",
   "metadata": {},
   "outputs": [],
   "source": [
    "import mysql.connector\n",
    "\n",
    "dataBase = mysql.connector.connect(\n",
    "    host = \"localhost\",\n",
    "    user = \"root\",\n",
    "    passwd = \"\",\n",
    "    database = \"D3_TI_2023\"\n",
    ")\n",
    "\n",
    "cursorObject = dataBase.cursor()\n",
    "sql = \"INSERT INTO dosen(NIP, NAMA_DOSEN, MATA_KULIAH)\\\n",
    "VALUES(%s, %s, %s)\"\n",
    "val = [(\"1999757865\", \"Alika\", \"Wireless\"), \n",
    "       (\"1847489433\", \"Wahyu\", \"Statistika\"),\n",
    "       (\"1987637993\", \"Tirta\", \"Mikrokontroler\"),\n",
    "       (\"1987637389\", \"Coki\", \"Web\"),\n",
    "       (\"1876368389\", \"Windah\", \"Wireless\")\n",
    "      ]\n",
    "\n",
    "cursorObject.executemany(sql, val)\n",
    "dataBase.commit()"
   ]
  },
  {
   "cell_type": "code",
   "execution_count": 13,
   "id": "7efed2bc",
   "metadata": {},
   "outputs": [
    {
     "name": "stdout",
     "output_type": "stream",
     "text": [
      "('1847489433', 'Wahyu', 'Statistika')\n",
      "('1876368389', 'Windah', 'Wireless')\n",
      "('1987637389', 'Coki', 'Web')\n",
      "('1987637993', 'Tirta', 'Mikrokontroler')\n",
      "('1999757865', 'Alika', 'Wireless')\n"
     ]
    }
   ],
   "source": [
    "import mysql.connector\n",
    "\n",
    "dataBase = mysql.connector.connect(\n",
    "    host = \"localhost\",\n",
    "    user = \"root\",\n",
    "    passwd = \"\",\n",
    "    database = \"D3_TI_2023\"\n",
    ")\n",
    "\n",
    "cursorObject = dataBase.cursor()\n",
    "query = \"SELECT * FROM dosen\"\n",
    "cursorObject.execute(query)\n",
    "\n",
    "myresult = cursorObject.fetchall()\n",
    "\n",
    "for x in myresult:\n",
    "    print(x)\n",
    "    \n",
    "dataBase.close()\n"
   ]
  },
  {
   "cell_type": "code",
   "execution_count": 14,
   "id": "ebaac7c2",
   "metadata": {},
   "outputs": [],
   "source": [
    "import mysql.connector\n",
    "\n",
    "dataBase = mysql.connector.connect(\n",
    "    host = \"localhost\",\n",
    "    user = \"root\",\n",
    "    passwd = \"\",\n",
    "    database = \"D3_TI_2023\"\n",
    ")\n",
    "\n",
    "cursorObject = dataBase.cursor()\n",
    "sql = \"INSERT INTO mata_kuliah(KODE_MATKUL, NAMA, WAKTU, RUANGAN)\\\n",
    "VALUES(%s, %s, %s, %s)\"\n",
    "val = [(\"87343\", \"Wireless\", \"2023-05-19\", \"Lab-1\"), \n",
    "       (\"83478\", \"Mikrokontroler\", \"2023-05-15\", \"Lab-3\"),\n",
    "       (\"87344\", \"Statistika\", \"2023-05-19\", \"Lab-2\"),\n",
    "       (\"87340\", \"Web\", \"2023-05-16\", \"Lab-1\"),\n",
    "       (\"87334\", \"Basis Data\", \"2023-05-15\", \"Lab-3\")\n",
    "      ]\n",
    "\n",
    "cursorObject.executemany(sql, val)\n",
    "dataBase.commit()"
   ]
  },
  {
   "cell_type": "code",
   "execution_count": 15,
   "id": "6a413a44",
   "metadata": {},
   "outputs": [
    {
     "name": "stdout",
     "output_type": "stream",
     "text": [
      "('83478', 'Mikrokontroler', datetime.date(2023, 5, 15), 'Lab-3')\n",
      "('87334', 'Basis Data', datetime.date(2023, 5, 15), 'Lab-3')\n",
      "('87340', 'Web', datetime.date(2023, 5, 16), 'Lab-1')\n",
      "('87343', 'Wireless', datetime.date(2023, 5, 19), 'Lab-1')\n",
      "('87344', 'Statistika', datetime.date(2023, 5, 19), 'Lab-2')\n"
     ]
    }
   ],
   "source": [
    "import mysql.connector\n",
    "\n",
    "dataBase = mysql.connector.connect(\n",
    "    host = \"localhost\",\n",
    "    user = \"root\",\n",
    "    passwd = \"\",\n",
    "    database = \"D3_TI_2023\"\n",
    ")\n",
    "\n",
    "cursorObject = dataBase.cursor()\n",
    "query = \"SELECT * FROM mata_kuliah\"\n",
    "cursorObject.execute(query)\n",
    "\n",
    "myresult = cursorObject.fetchall()\n",
    "\n",
    "for x in myresult:\n",
    "    print(x)\n",
    "    \n",
    "dataBase.close()"
   ]
  },
  {
   "cell_type": "code",
   "execution_count": null,
   "id": "c3b13a98",
   "metadata": {},
   "outputs": [],
   "source": []
  }
 ],
 "metadata": {
  "kernelspec": {
   "display_name": "Python 3 (ipykernel)",
   "language": "python",
   "name": "python3"
  },
  "language_info": {
   "codemirror_mode": {
    "name": "ipython",
    "version": 3
   },
   "file_extension": ".py",
   "mimetype": "text/x-python",
   "name": "python",
   "nbconvert_exporter": "python",
   "pygments_lexer": "ipython3",
   "version": "3.9.12"
  }
 },
 "nbformat": 4,
 "nbformat_minor": 5
}
